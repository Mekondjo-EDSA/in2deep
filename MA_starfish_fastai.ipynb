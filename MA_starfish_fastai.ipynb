{
  "metadata": {
    "kernelspec": {
      "language": "python",
      "display_name": "Python 3",
      "name": "python3"
    },
    "language_info": {
      "pygments_lexer": "ipython3",
      "nbconvert_exporter": "python",
      "version": "3.6.4",
      "file_extension": ".py",
      "codemirror_mode": {
        "name": "ipython",
        "version": 3
      },
      "name": "python",
      "mimetype": "text/x-python"
    },
    "colab": {
      "name": "MA_starfish-fastai.ipynb",
      "provenance": [],
      "machine_shape": "hm",
      "include_colab_link": true
    },
    "accelerator": "GPU"
  },
  "nbformat_minor": 0,
  "nbformat": 4,
  "cells": [
    {
      "cell_type": "markdown",
      "metadata": {
        "id": "view-in-github",
        "colab_type": "text"
      },
      "source": [
        "<a href=\"https://colab.research.google.com/github/Mekondjo-EDSA/in2deep/blob/development/MA_starfish_fastai.ipynb\" target=\"_parent\"><img src=\"https://colab.research.google.com/assets/colab-badge.svg\" alt=\"Open In Colab\"/></a>"
      ]
    },
    {
      "cell_type": "code",
      "source": [
        "import numpy as np # linear algebra\n",
        "import pandas as pd # data processing, CSV file I/O (e.g. pd.read_csv)\n",
        "from PIL import Image\n",
        "import os\n",
        "import torch\n",
        "device = torch.device(\"cuda:0\" if torch.cuda.is_available() else \"cpu\")\n",
        "device"
      ],
      "metadata": {
        "execution": {
          "iopub.status.busy": "2022-02-05T09:51:37.007535Z",
          "iopub.execute_input": "2022-02-05T09:51:37.007905Z",
          "iopub.status.idle": "2022-02-05T09:51:37.018915Z",
          "shell.execute_reply.started": "2022-02-05T09:51:37.007854Z",
          "shell.execute_reply": "2022-02-05T09:51:37.017946Z"
        },
        "trusted": true,
        "colab": {
          "base_uri": "https://localhost:8080/"
        },
        "id": "PC9SWpWu2Efg",
        "outputId": "2859cca3-2942-4817-f500-6f0d4032f9f3"
      },
      "execution_count": null,
      "outputs": [
        {
          "output_type": "execute_result",
          "data": {
            "text/plain": [
              "device(type='cuda', index=0)"
            ]
          },
          "metadata": {},
          "execution_count": 59
        }
      ]
    },
    {
      "cell_type": "code",
      "source": [
        "from google.colab import drive\n",
        "drive.mount('/content/drive')"
      ],
      "metadata": {
        "colab": {
          "base_uri": "https://localhost:8080/"
        },
        "id": "ZDAYq2U92H-B",
        "outputId": "7f566323-ee79-4118-b10c-bbe72616530b"
      },
      "execution_count": null,
      "outputs": [
        {
          "output_type": "stream",
          "name": "stdout",
          "text": [
            "Drive already mounted at /content/drive; to attempt to forcibly remount, call drive.mount(\"/content/drive\", force_remount=True).\n"
          ]
        }
      ]
    },
    {
      "cell_type": "code",
      "execution_count": null,
      "metadata": {
        "id": "vYotrU1VCc_8"
      },
      "outputs": [],
      "source": [
        "!pip install -Uqq fastbook"
      ]
    },
    {
      "cell_type": "code",
      "source": [
        "import fastbook\n",
        "from fastbook import *\n",
        "from fastai.vision.all import *\n",
        "import torch"
      ],
      "metadata": {
        "id": "DD3LQpGzCmW3"
      },
      "execution_count": null,
      "outputs": []
    },
    {
      "cell_type": "code",
      "source": [
        "TRAIN_PATH = \"/content/drive/MyDrive/tensorflow-great-barrier-reef/train_images\"\n",
        "HEIGHT, WIDTH = 720, 1280\n",
        "image_size = 640\n",
        "\n",
        "vid0_path = \"/content/drive/MyDrive/tensorflow-great-barrier-reef/train_images/video_0\"\n",
        "vid1_path = \"/content/drive/MyDrive/tensorflow-great-barrier-reef/train_images/video_1\"\n",
        "vid2_path = \"/content/drive/MyDrive/tensorflow-great-barrier-reef/train_images/video_2\"\n",
        "vid_paths = [vid0_path, vid1_path, vid2_path]\n",
        "\n",
        "vid0_ls = [os.path.join(vid0_path,f) for f in os.listdir(vid0_path)]\n",
        "vid0_ls = sorted(vid0_ls, key=lambda x: int(\"\".join([i for i in x if i.isdigit()])))\n",
        "\n",
        "vid1_ls = [os.path.join(vid1_path,f) for f in os.listdir(vid1_path)]\n",
        "vid1_ls = sorted(vid1_ls, key=lambda x: int(\"\".join([i for i in x if i.isdigit()])))\n",
        "\n",
        "vid2_ls = [os.path.join(vid2_path,f) for f in os.listdir(vid2_path)]\n",
        "vid2_ls = sorted(vid2_ls, key=lambda x: int(\"\".join([i for i in x if i.isdigit()])))\n",
        "files_ls = [vid0_ls, vid1_ls, vid2_ls]\n",
        "\n",
        "train_df = pd.read_csv(\"/content/drive/MyDrive/tensorflow-great-barrier-reef/train.csv\",\n",
        "                       sep = r',', skipinitialspace = True)"
      ],
      "metadata": {
        "execution": {
          "iopub.status.busy": "2022-02-05T08:18:34.872689Z",
          "iopub.execute_input": "2022-02-05T08:18:34.873041Z",
          "iopub.status.idle": "2022-02-05T08:18:35.582343Z",
          "shell.execute_reply.started": "2022-02-05T08:18:34.872999Z",
          "shell.execute_reply": "2022-02-05T08:18:35.581448Z"
        },
        "trusted": true,
        "id": "1zMViTeL2Efw"
      },
      "execution_count": null,
      "outputs": []
    },
    {
      "cell_type": "code",
      "source": [
        "print(vid0_ls[:3])\n",
        "print(\"\\n\",files_ls[0][:3])"
      ],
      "metadata": {
        "execution": {
          "iopub.status.busy": "2022-02-05T08:18:38.096755Z",
          "iopub.execute_input": "2022-02-05T08:18:38.097718Z",
          "iopub.status.idle": "2022-02-05T08:18:38.103937Z",
          "shell.execute_reply.started": "2022-02-05T08:18:38.097669Z",
          "shell.execute_reply": "2022-02-05T08:18:38.102761Z"
        },
        "trusted": true,
        "colab": {
          "base_uri": "https://localhost:8080/"
        },
        "id": "b6PBzOHn2Ef4",
        "outputId": "40e4d272-1f20-4dc9-910f-17bd9bf27655"
      },
      "execution_count": null,
      "outputs": [
        {
          "output_type": "stream",
          "name": "stdout",
          "text": [
            "['/content/drive/MyDrive/tensorflow-great-barrier-reef/train_images/video_0/0.jpg', '/content/drive/MyDrive/tensorflow-great-barrier-reef/train_images/video_0/1.jpg', '/content/drive/MyDrive/tensorflow-great-barrier-reef/train_images/video_0/2.jpg']\n",
            "\n",
            " ['/content/drive/MyDrive/tensorflow-great-barrier-reef/train_images/video_0/0.jpg', '/content/drive/MyDrive/tensorflow-great-barrier-reef/train_images/video_0/1.jpg', '/content/drive/MyDrive/tensorflow-great-barrier-reef/train_images/video_0/2.jpg']\n"
          ]
        }
      ]
    },
    {
      "cell_type": "code",
      "source": [
        "len(files_ls[0])"
      ],
      "metadata": {
        "execution": {
          "iopub.status.busy": "2022-02-05T08:18:42.125202Z",
          "iopub.execute_input": "2022-02-05T08:18:42.125908Z",
          "iopub.status.idle": "2022-02-05T08:18:42.136007Z",
          "shell.execute_reply.started": "2022-02-05T08:18:42.125832Z",
          "shell.execute_reply": "2022-02-05T08:18:42.134951Z"
        },
        "trusted": true,
        "colab": {
          "base_uri": "https://localhost:8080/"
        },
        "id": "25kT3d_W2Ef7",
        "outputId": "160ef7f7-a75d-4c2b-ed8b-796d0431e8f4"
      },
      "execution_count": null,
      "outputs": [
        {
          "output_type": "execute_result",
          "data": {
            "text/plain": [
              "6708"
            ]
          },
          "metadata": {},
          "execution_count": 65
        }
      ]
    },
    {
      "cell_type": "code",
      "source": [
        "train_df.head(5)"
      ],
      "metadata": {
        "execution": {
          "iopub.status.busy": "2022-02-05T08:18:49.745774Z",
          "iopub.execute_input": "2022-02-05T08:18:49.74609Z",
          "iopub.status.idle": "2022-02-05T08:18:49.760417Z",
          "shell.execute_reply.started": "2022-02-05T08:18:49.746061Z",
          "shell.execute_reply": "2022-02-05T08:18:49.759358Z"
        },
        "trusted": true,
        "colab": {
          "base_uri": "https://localhost:8080/",
          "height": 206
        },
        "id": "OVv5KWR12Ef8",
        "outputId": "a39fef88-474f-4668-dc8f-2cbc92dbe0a4"
      },
      "execution_count": null,
      "outputs": [
        {
          "output_type": "execute_result",
          "data": {
            "text/html": [
              "\n",
              "  <div id=\"df-af9999f5-050d-4f0a-b7ca-155d3ed89aa1\">\n",
              "    <div class=\"colab-df-container\">\n",
              "      <div>\n",
              "<style scoped>\n",
              "    .dataframe tbody tr th:only-of-type {\n",
              "        vertical-align: middle;\n",
              "    }\n",
              "\n",
              "    .dataframe tbody tr th {\n",
              "        vertical-align: top;\n",
              "    }\n",
              "\n",
              "    .dataframe thead th {\n",
              "        text-align: right;\n",
              "    }\n",
              "</style>\n",
              "<table border=\"1\" class=\"dataframe\">\n",
              "  <thead>\n",
              "    <tr style=\"text-align: right;\">\n",
              "      <th></th>\n",
              "      <th>video_id</th>\n",
              "      <th>sequence</th>\n",
              "      <th>video_frame</th>\n",
              "      <th>sequence_frame</th>\n",
              "      <th>image_id</th>\n",
              "      <th>annotations</th>\n",
              "    </tr>\n",
              "  </thead>\n",
              "  <tbody>\n",
              "    <tr>\n",
              "      <th>0</th>\n",
              "      <td>0</td>\n",
              "      <td>40258</td>\n",
              "      <td>0</td>\n",
              "      <td>0</td>\n",
              "      <td>0-0</td>\n",
              "      <td>[]</td>\n",
              "    </tr>\n",
              "    <tr>\n",
              "      <th>1</th>\n",
              "      <td>0</td>\n",
              "      <td>40258</td>\n",
              "      <td>1</td>\n",
              "      <td>1</td>\n",
              "      <td>0-1</td>\n",
              "      <td>[]</td>\n",
              "    </tr>\n",
              "    <tr>\n",
              "      <th>2</th>\n",
              "      <td>0</td>\n",
              "      <td>40258</td>\n",
              "      <td>2</td>\n",
              "      <td>2</td>\n",
              "      <td>0-2</td>\n",
              "      <td>[]</td>\n",
              "    </tr>\n",
              "    <tr>\n",
              "      <th>3</th>\n",
              "      <td>0</td>\n",
              "      <td>40258</td>\n",
              "      <td>3</td>\n",
              "      <td>3</td>\n",
              "      <td>0-3</td>\n",
              "      <td>[]</td>\n",
              "    </tr>\n",
              "    <tr>\n",
              "      <th>4</th>\n",
              "      <td>0</td>\n",
              "      <td>40258</td>\n",
              "      <td>4</td>\n",
              "      <td>4</td>\n",
              "      <td>0-4</td>\n",
              "      <td>[]</td>\n",
              "    </tr>\n",
              "  </tbody>\n",
              "</table>\n",
              "</div>\n",
              "      <button class=\"colab-df-convert\" onclick=\"convertToInteractive('df-af9999f5-050d-4f0a-b7ca-155d3ed89aa1')\"\n",
              "              title=\"Convert this dataframe to an interactive table.\"\n",
              "              style=\"display:none;\">\n",
              "        \n",
              "  <svg xmlns=\"http://www.w3.org/2000/svg\" height=\"24px\"viewBox=\"0 0 24 24\"\n",
              "       width=\"24px\">\n",
              "    <path d=\"M0 0h24v24H0V0z\" fill=\"none\"/>\n",
              "    <path d=\"M18.56 5.44l.94 2.06.94-2.06 2.06-.94-2.06-.94-.94-2.06-.94 2.06-2.06.94zm-11 1L8.5 8.5l.94-2.06 2.06-.94-2.06-.94L8.5 2.5l-.94 2.06-2.06.94zm10 10l.94 2.06.94-2.06 2.06-.94-2.06-.94-.94-2.06-.94 2.06-2.06.94z\"/><path d=\"M17.41 7.96l-1.37-1.37c-.4-.4-.92-.59-1.43-.59-.52 0-1.04.2-1.43.59L10.3 9.45l-7.72 7.72c-.78.78-.78 2.05 0 2.83L4 21.41c.39.39.9.59 1.41.59.51 0 1.02-.2 1.41-.59l7.78-7.78 2.81-2.81c.8-.78.8-2.07 0-2.86zM5.41 20L4 18.59l7.72-7.72 1.47 1.35L5.41 20z\"/>\n",
              "  </svg>\n",
              "      </button>\n",
              "      \n",
              "  <style>\n",
              "    .colab-df-container {\n",
              "      display:flex;\n",
              "      flex-wrap:wrap;\n",
              "      gap: 12px;\n",
              "    }\n",
              "\n",
              "    .colab-df-convert {\n",
              "      background-color: #E8F0FE;\n",
              "      border: none;\n",
              "      border-radius: 50%;\n",
              "      cursor: pointer;\n",
              "      display: none;\n",
              "      fill: #1967D2;\n",
              "      height: 32px;\n",
              "      padding: 0 0 0 0;\n",
              "      width: 32px;\n",
              "    }\n",
              "\n",
              "    .colab-df-convert:hover {\n",
              "      background-color: #E2EBFA;\n",
              "      box-shadow: 0px 1px 2px rgba(60, 64, 67, 0.3), 0px 1px 3px 1px rgba(60, 64, 67, 0.15);\n",
              "      fill: #174EA6;\n",
              "    }\n",
              "\n",
              "    [theme=dark] .colab-df-convert {\n",
              "      background-color: #3B4455;\n",
              "      fill: #D2E3FC;\n",
              "    }\n",
              "\n",
              "    [theme=dark] .colab-df-convert:hover {\n",
              "      background-color: #434B5C;\n",
              "      box-shadow: 0px 1px 3px 1px rgba(0, 0, 0, 0.15);\n",
              "      filter: drop-shadow(0px 1px 2px rgba(0, 0, 0, 0.3));\n",
              "      fill: #FFFFFF;\n",
              "    }\n",
              "  </style>\n",
              "\n",
              "      <script>\n",
              "        const buttonEl =\n",
              "          document.querySelector('#df-af9999f5-050d-4f0a-b7ca-155d3ed89aa1 button.colab-df-convert');\n",
              "        buttonEl.style.display =\n",
              "          google.colab.kernel.accessAllowed ? 'block' : 'none';\n",
              "\n",
              "        async function convertToInteractive(key) {\n",
              "          const element = document.querySelector('#df-af9999f5-050d-4f0a-b7ca-155d3ed89aa1');\n",
              "          const dataTable =\n",
              "            await google.colab.kernel.invokeFunction('convertToInteractive',\n",
              "                                                     [key], {});\n",
              "          if (!dataTable) return;\n",
              "\n",
              "          const docLinkHtml = 'Like what you see? Visit the ' +\n",
              "            '<a target=\"_blank\" href=https://colab.research.google.com/notebooks/data_table.ipynb>data table notebook</a>'\n",
              "            + ' to learn more about interactive tables.';\n",
              "          element.innerHTML = '';\n",
              "          dataTable['output_type'] = 'display_data';\n",
              "          await google.colab.output.renderOutput(dataTable, element);\n",
              "          const docLink = document.createElement('div');\n",
              "          docLink.innerHTML = docLinkHtml;\n",
              "          element.appendChild(docLink);\n",
              "        }\n",
              "      </script>\n",
              "    </div>\n",
              "  </div>\n",
              "  "
            ],
            "text/plain": [
              "   video_id  sequence  video_frame  sequence_frame image_id annotations\n",
              "0         0     40258            0               0      0-0          []\n",
              "1         0     40258            1               1      0-1          []\n",
              "2         0     40258            2               2      0-2          []\n",
              "3         0     40258            3               3      0-3          []\n",
              "4         0     40258            4               4      0-4          []"
            ]
          },
          "metadata": {},
          "execution_count": 66
        }
      ]
    },
    {
      "cell_type": "code",
      "source": [
        "def get_oldpath(x):\n",
        "    if x.video_id == 0:\n",
        "        path = os.path.join(vid0_path,str(x.video_frame)+\".jpg\")\n",
        "    elif x.video_id == 1:\n",
        "        path = os.path.join(vid1_path,str(x.video_frame)+\".jpg\")\n",
        "    else:\n",
        "        path = os.path.join(vid2_path,str(x.video_frame)+\".jpg\")\n",
        "        \n",
        "    return path\n",
        "\n",
        "def get_newpath(x):\n",
        "    filename = f\"{x.video_id}_{x.video_frame}.jpg\"\n",
        "    return os.path.join(\"./dataset\", filename)\n",
        "\n",
        "def get_filename(x):\n",
        "    return f\"{x.video_id}_{x.video_frame}.jpg\""
      ],
      "metadata": {
        "execution": {
          "iopub.status.busy": "2022-02-05T08:18:53.059995Z",
          "iopub.execute_input": "2022-02-05T08:18:53.060296Z",
          "iopub.status.idle": "2022-02-05T08:18:53.069095Z",
          "shell.execute_reply.started": "2022-02-05T08:18:53.060264Z",
          "shell.execute_reply": "2022-02-05T08:18:53.06796Z"
        },
        "trusted": true,
        "id": "_3hK6rN_2Ef_"
      },
      "execution_count": null,
      "outputs": []
    },
    {
      "cell_type": "code",
      "source": [
        "import ast\n",
        "from tqdm import tqdm\n",
        "import shutil\n",
        "train_df = train_df[train_df.annotations != \"[]\"]\n",
        "train_df[\"annotations\"] = train_df[\"annotations\"].map(lambda x : ast.literal_eval(x))\n",
        "\n",
        "train_df[\"filepath\"] = train_df.apply(lambda x : get_oldpath(x), axis=1)\n",
        "train_df[\"newpath\"] = train_df.apply(lambda x : get_newpath(x), axis=1)\n",
        "train_df[\"filename\"] = train_df.apply(lambda x : get_filename(x), axis=1)\n",
        "\n",
        "os.makedirs(\"./dataset\",exist_ok=True)\n",
        "\n",
        "for i in tqdm(range(len(train_df))):\n",
        "    src = train_df.iloc[i][\"filepath\"]\n",
        "    dst = train_df.iloc[i][\"newpath\"]\n",
        "    shutil.copy(src,dst)\n",
        "    \n",
        "train_df.head(3)"
      ],
      "metadata": {
        "execution": {
          "iopub.status.busy": "2022-02-05T08:19:00.416738Z",
          "iopub.execute_input": "2022-02-05T08:19:00.417032Z",
          "iopub.status.idle": "2022-02-05T08:20:05.427134Z",
          "shell.execute_reply.started": "2022-02-05T08:19:00.417002Z",
          "shell.execute_reply": "2022-02-05T08:20:05.425956Z"
        },
        "trusted": true,
        "colab": {
          "base_uri": "https://localhost:8080/",
          "height": 257
        },
        "id": "1X8Tu6Zm2EgB",
        "outputId": "bf366a93-7dce-47e1-8d29-b68eb603436f"
      },
      "execution_count": null,
      "outputs": [
        {
          "output_type": "stream",
          "name": "stderr",
          "text": [
            "100%|██████████| 4919/4919 [02:50<00:00, 28.92it/s] \n"
          ]
        },
        {
          "output_type": "execute_result",
          "data": {
            "text/html": [
              "\n",
              "  <div id=\"df-6a4974d7-7383-48e1-b71e-942c827509d2\">\n",
              "    <div class=\"colab-df-container\">\n",
              "      <div>\n",
              "<style scoped>\n",
              "    .dataframe tbody tr th:only-of-type {\n",
              "        vertical-align: middle;\n",
              "    }\n",
              "\n",
              "    .dataframe tbody tr th {\n",
              "        vertical-align: top;\n",
              "    }\n",
              "\n",
              "    .dataframe thead th {\n",
              "        text-align: right;\n",
              "    }\n",
              "</style>\n",
              "<table border=\"1\" class=\"dataframe\">\n",
              "  <thead>\n",
              "    <tr style=\"text-align: right;\">\n",
              "      <th></th>\n",
              "      <th>video_id</th>\n",
              "      <th>sequence</th>\n",
              "      <th>video_frame</th>\n",
              "      <th>sequence_frame</th>\n",
              "      <th>image_id</th>\n",
              "      <th>annotations</th>\n",
              "      <th>filepath</th>\n",
              "      <th>newpath</th>\n",
              "      <th>filename</th>\n",
              "    </tr>\n",
              "  </thead>\n",
              "  <tbody>\n",
              "    <tr>\n",
              "      <th>16</th>\n",
              "      <td>0</td>\n",
              "      <td>40258</td>\n",
              "      <td>16</td>\n",
              "      <td>16</td>\n",
              "      <td>0-16</td>\n",
              "      <td>[{'x': 559, 'y': 213, 'width': 50, 'height': 32}]</td>\n",
              "      <td>/content/drive/MyDrive/tensorflow-great-barrier-reef/train_images/video_0/16.jpg</td>\n",
              "      <td>./dataset/0_16.jpg</td>\n",
              "      <td>0_16.jpg</td>\n",
              "    </tr>\n",
              "    <tr>\n",
              "      <th>17</th>\n",
              "      <td>0</td>\n",
              "      <td>40258</td>\n",
              "      <td>17</td>\n",
              "      <td>17</td>\n",
              "      <td>0-17</td>\n",
              "      <td>[{'x': 558, 'y': 213, 'width': 50, 'height': 32}]</td>\n",
              "      <td>/content/drive/MyDrive/tensorflow-great-barrier-reef/train_images/video_0/17.jpg</td>\n",
              "      <td>./dataset/0_17.jpg</td>\n",
              "      <td>0_17.jpg</td>\n",
              "    </tr>\n",
              "    <tr>\n",
              "      <th>18</th>\n",
              "      <td>0</td>\n",
              "      <td>40258</td>\n",
              "      <td>18</td>\n",
              "      <td>18</td>\n",
              "      <td>0-18</td>\n",
              "      <td>[{'x': 557, 'y': 213, 'width': 50, 'height': 32}]</td>\n",
              "      <td>/content/drive/MyDrive/tensorflow-great-barrier-reef/train_images/video_0/18.jpg</td>\n",
              "      <td>./dataset/0_18.jpg</td>\n",
              "      <td>0_18.jpg</td>\n",
              "    </tr>\n",
              "  </tbody>\n",
              "</table>\n",
              "</div>\n",
              "      <button class=\"colab-df-convert\" onclick=\"convertToInteractive('df-6a4974d7-7383-48e1-b71e-942c827509d2')\"\n",
              "              title=\"Convert this dataframe to an interactive table.\"\n",
              "              style=\"display:none;\">\n",
              "        \n",
              "  <svg xmlns=\"http://www.w3.org/2000/svg\" height=\"24px\"viewBox=\"0 0 24 24\"\n",
              "       width=\"24px\">\n",
              "    <path d=\"M0 0h24v24H0V0z\" fill=\"none\"/>\n",
              "    <path d=\"M18.56 5.44l.94 2.06.94-2.06 2.06-.94-2.06-.94-.94-2.06-.94 2.06-2.06.94zm-11 1L8.5 8.5l.94-2.06 2.06-.94-2.06-.94L8.5 2.5l-.94 2.06-2.06.94zm10 10l.94 2.06.94-2.06 2.06-.94-2.06-.94-.94-2.06-.94 2.06-2.06.94z\"/><path d=\"M17.41 7.96l-1.37-1.37c-.4-.4-.92-.59-1.43-.59-.52 0-1.04.2-1.43.59L10.3 9.45l-7.72 7.72c-.78.78-.78 2.05 0 2.83L4 21.41c.39.39.9.59 1.41.59.51 0 1.02-.2 1.41-.59l7.78-7.78 2.81-2.81c.8-.78.8-2.07 0-2.86zM5.41 20L4 18.59l7.72-7.72 1.47 1.35L5.41 20z\"/>\n",
              "  </svg>\n",
              "      </button>\n",
              "      \n",
              "  <style>\n",
              "    .colab-df-container {\n",
              "      display:flex;\n",
              "      flex-wrap:wrap;\n",
              "      gap: 12px;\n",
              "    }\n",
              "\n",
              "    .colab-df-convert {\n",
              "      background-color: #E8F0FE;\n",
              "      border: none;\n",
              "      border-radius: 50%;\n",
              "      cursor: pointer;\n",
              "      display: none;\n",
              "      fill: #1967D2;\n",
              "      height: 32px;\n",
              "      padding: 0 0 0 0;\n",
              "      width: 32px;\n",
              "    }\n",
              "\n",
              "    .colab-df-convert:hover {\n",
              "      background-color: #E2EBFA;\n",
              "      box-shadow: 0px 1px 2px rgba(60, 64, 67, 0.3), 0px 1px 3px 1px rgba(60, 64, 67, 0.15);\n",
              "      fill: #174EA6;\n",
              "    }\n",
              "\n",
              "    [theme=dark] .colab-df-convert {\n",
              "      background-color: #3B4455;\n",
              "      fill: #D2E3FC;\n",
              "    }\n",
              "\n",
              "    [theme=dark] .colab-df-convert:hover {\n",
              "      background-color: #434B5C;\n",
              "      box-shadow: 0px 1px 3px 1px rgba(0, 0, 0, 0.15);\n",
              "      filter: drop-shadow(0px 1px 2px rgba(0, 0, 0, 0.3));\n",
              "      fill: #FFFFFF;\n",
              "    }\n",
              "  </style>\n",
              "\n",
              "      <script>\n",
              "        const buttonEl =\n",
              "          document.querySelector('#df-6a4974d7-7383-48e1-b71e-942c827509d2 button.colab-df-convert');\n",
              "        buttonEl.style.display =\n",
              "          google.colab.kernel.accessAllowed ? 'block' : 'none';\n",
              "\n",
              "        async function convertToInteractive(key) {\n",
              "          const element = document.querySelector('#df-6a4974d7-7383-48e1-b71e-942c827509d2');\n",
              "          const dataTable =\n",
              "            await google.colab.kernel.invokeFunction('convertToInteractive',\n",
              "                                                     [key], {});\n",
              "          if (!dataTable) return;\n",
              "\n",
              "          const docLinkHtml = 'Like what you see? Visit the ' +\n",
              "            '<a target=\"_blank\" href=https://colab.research.google.com/notebooks/data_table.ipynb>data table notebook</a>'\n",
              "            + ' to learn more about interactive tables.';\n",
              "          element.innerHTML = '';\n",
              "          dataTable['output_type'] = 'display_data';\n",
              "          await google.colab.output.renderOutput(dataTable, element);\n",
              "          const docLink = document.createElement('div');\n",
              "          docLink.innerHTML = docLinkHtml;\n",
              "          element.appendChild(docLink);\n",
              "        }\n",
              "      </script>\n",
              "    </div>\n",
              "  </div>\n",
              "  "
            ],
            "text/plain": [
              "    video_id  sequence  video_frame  sequence_frame image_id  \\\n",
              "16         0     40258           16              16     0-16   \n",
              "17         0     40258           17              17     0-17   \n",
              "18         0     40258           18              18     0-18   \n",
              "\n",
              "                                          annotations  \\\n",
              "16  [{'x': 559, 'y': 213, 'width': 50, 'height': 32}]   \n",
              "17  [{'x': 558, 'y': 213, 'width': 50, 'height': 32}]   \n",
              "18  [{'x': 557, 'y': 213, 'width': 50, 'height': 32}]   \n",
              "\n",
              "                                                                            filepath  \\\n",
              "16  /content/drive/MyDrive/tensorflow-great-barrier-reef/train_images/video_0/16.jpg   \n",
              "17  /content/drive/MyDrive/tensorflow-great-barrier-reef/train_images/video_0/17.jpg   \n",
              "18  /content/drive/MyDrive/tensorflow-great-barrier-reef/train_images/video_0/18.jpg   \n",
              "\n",
              "               newpath  filename  \n",
              "16  ./dataset/0_16.jpg  0_16.jpg  \n",
              "17  ./dataset/0_17.jpg  0_17.jpg  \n",
              "18  ./dataset/0_18.jpg  0_18.jpg  "
            ]
          },
          "metadata": {},
          "execution_count": 68
        }
      ]
    },
    {
      "cell_type": "code",
      "source": [
        "df = train_df\n",
        "df = df.explode(\"annotations\")"
      ],
      "metadata": {
        "execution": {
          "iopub.status.busy": "2022-02-05T08:20:56.90771Z",
          "iopub.execute_input": "2022-02-05T08:20:56.908691Z",
          "iopub.status.idle": "2022-02-05T08:20:56.943295Z",
          "shell.execute_reply.started": "2022-02-05T08:20:56.908626Z",
          "shell.execute_reply": "2022-02-05T08:20:56.942011Z"
        },
        "trusted": true,
        "id": "bKNg47yc2EgF"
      },
      "execution_count": null,
      "outputs": []
    },
    {
      "cell_type": "code",
      "source": [
        "df['bbox'] = df['annotations'].map(lambda x: list(x.values()))"
      ],
      "metadata": {
        "execution": {
          "iopub.status.busy": "2022-02-05T08:21:00.050469Z",
          "iopub.execute_input": "2022-02-05T08:21:00.050794Z",
          "iopub.status.idle": "2022-02-05T08:21:00.068458Z",
          "shell.execute_reply.started": "2022-02-05T08:21:00.05076Z",
          "shell.execute_reply": "2022-02-05T08:21:00.067009Z"
        },
        "trusted": true,
        "id": "7vew6wzU2EgJ"
      },
      "execution_count": null,
      "outputs": []
    },
    {
      "cell_type": "code",
      "source": [
        "df[\"width\"] = [WIDTH]*len(df)\n",
        "df[\"height\"] = [HEIGHT]*len(df)\n",
        "df[\"label\"] = [\"starfish\"]*len(df)\n",
        "\n",
        "df[\"xmin\"] = df.apply(lambda x : x.annotations[\"x\"], axis=1)\n",
        "df[\"ymin\"] = df.apply(lambda x : x.annotations[\"y\"], axis=1)\n",
        "df[\"xmax\"] = df.apply(lambda x : x.annotations[\"x\"]+x.annotations[\"width\"], axis=1)\n",
        "df[\"ymax\"] = df.apply(lambda x : x.annotations[\"y\"]+x.annotations[\"height\"], axis=1)\n",
        "\n",
        "df.loc[df[\"xmax\"] > 1280, \"xmax\"] = 1280\n",
        "df.loc[df[\"ymax\"] > 720, \"ymax\"] = 720\n",
        "\n",
        "df = df.drop([\"video_id\",\"sequence\",\"video_frame\",\"sequence_frame\",\"image_id\",\"annotations\",\"filepath\",\"newpath\"], axis=1)\n",
        "df = df.reset_index(drop=True)\n",
        "df.head(5)"
      ],
      "metadata": {
        "execution": {
          "iopub.status.busy": "2022-02-05T08:21:06.359495Z",
          "iopub.execute_input": "2022-02-05T08:21:06.359853Z",
          "iopub.status.idle": "2022-02-05T08:21:07.6644Z",
          "shell.execute_reply.started": "2022-02-05T08:21:06.359817Z",
          "shell.execute_reply": "2022-02-05T08:21:07.663339Z"
        },
        "trusted": true,
        "colab": {
          "base_uri": "https://localhost:8080/",
          "height": 206
        },
        "id": "WakrmrYh2EgM",
        "outputId": "7374161b-b7c1-4cd2-f4f3-eb21d7de3c12"
      },
      "execution_count": null,
      "outputs": [
        {
          "output_type": "execute_result",
          "data": {
            "text/html": [
              "\n",
              "  <div id=\"df-a5dc96fe-8da4-4be8-97bb-b8eef9683e74\">\n",
              "    <div class=\"colab-df-container\">\n",
              "      <div>\n",
              "<style scoped>\n",
              "    .dataframe tbody tr th:only-of-type {\n",
              "        vertical-align: middle;\n",
              "    }\n",
              "\n",
              "    .dataframe tbody tr th {\n",
              "        vertical-align: top;\n",
              "    }\n",
              "\n",
              "    .dataframe thead th {\n",
              "        text-align: right;\n",
              "    }\n",
              "</style>\n",
              "<table border=\"1\" class=\"dataframe\">\n",
              "  <thead>\n",
              "    <tr style=\"text-align: right;\">\n",
              "      <th></th>\n",
              "      <th>filename</th>\n",
              "      <th>bbox</th>\n",
              "      <th>width</th>\n",
              "      <th>height</th>\n",
              "      <th>label</th>\n",
              "      <th>xmin</th>\n",
              "      <th>ymin</th>\n",
              "      <th>xmax</th>\n",
              "      <th>ymax</th>\n",
              "    </tr>\n",
              "  </thead>\n",
              "  <tbody>\n",
              "    <tr>\n",
              "      <th>0</th>\n",
              "      <td>0_16.jpg</td>\n",
              "      <td>[559, 213, 50, 32]</td>\n",
              "      <td>1280</td>\n",
              "      <td>720</td>\n",
              "      <td>starfish</td>\n",
              "      <td>559</td>\n",
              "      <td>213</td>\n",
              "      <td>609</td>\n",
              "      <td>245</td>\n",
              "    </tr>\n",
              "    <tr>\n",
              "      <th>1</th>\n",
              "      <td>0_17.jpg</td>\n",
              "      <td>[558, 213, 50, 32]</td>\n",
              "      <td>1280</td>\n",
              "      <td>720</td>\n",
              "      <td>starfish</td>\n",
              "      <td>558</td>\n",
              "      <td>213</td>\n",
              "      <td>608</td>\n",
              "      <td>245</td>\n",
              "    </tr>\n",
              "    <tr>\n",
              "      <th>2</th>\n",
              "      <td>0_18.jpg</td>\n",
              "      <td>[557, 213, 50, 32]</td>\n",
              "      <td>1280</td>\n",
              "      <td>720</td>\n",
              "      <td>starfish</td>\n",
              "      <td>557</td>\n",
              "      <td>213</td>\n",
              "      <td>607</td>\n",
              "      <td>245</td>\n",
              "    </tr>\n",
              "    <tr>\n",
              "      <th>3</th>\n",
              "      <td>0_19.jpg</td>\n",
              "      <td>[556, 214, 50, 32]</td>\n",
              "      <td>1280</td>\n",
              "      <td>720</td>\n",
              "      <td>starfish</td>\n",
              "      <td>556</td>\n",
              "      <td>214</td>\n",
              "      <td>606</td>\n",
              "      <td>246</td>\n",
              "    </tr>\n",
              "    <tr>\n",
              "      <th>4</th>\n",
              "      <td>0_20.jpg</td>\n",
              "      <td>[555, 214, 50, 32]</td>\n",
              "      <td>1280</td>\n",
              "      <td>720</td>\n",
              "      <td>starfish</td>\n",
              "      <td>555</td>\n",
              "      <td>214</td>\n",
              "      <td>605</td>\n",
              "      <td>246</td>\n",
              "    </tr>\n",
              "  </tbody>\n",
              "</table>\n",
              "</div>\n",
              "      <button class=\"colab-df-convert\" onclick=\"convertToInteractive('df-a5dc96fe-8da4-4be8-97bb-b8eef9683e74')\"\n",
              "              title=\"Convert this dataframe to an interactive table.\"\n",
              "              style=\"display:none;\">\n",
              "        \n",
              "  <svg xmlns=\"http://www.w3.org/2000/svg\" height=\"24px\"viewBox=\"0 0 24 24\"\n",
              "       width=\"24px\">\n",
              "    <path d=\"M0 0h24v24H0V0z\" fill=\"none\"/>\n",
              "    <path d=\"M18.56 5.44l.94 2.06.94-2.06 2.06-.94-2.06-.94-.94-2.06-.94 2.06-2.06.94zm-11 1L8.5 8.5l.94-2.06 2.06-.94-2.06-.94L8.5 2.5l-.94 2.06-2.06.94zm10 10l.94 2.06.94-2.06 2.06-.94-2.06-.94-.94-2.06-.94 2.06-2.06.94z\"/><path d=\"M17.41 7.96l-1.37-1.37c-.4-.4-.92-.59-1.43-.59-.52 0-1.04.2-1.43.59L10.3 9.45l-7.72 7.72c-.78.78-.78 2.05 0 2.83L4 21.41c.39.39.9.59 1.41.59.51 0 1.02-.2 1.41-.59l7.78-7.78 2.81-2.81c.8-.78.8-2.07 0-2.86zM5.41 20L4 18.59l7.72-7.72 1.47 1.35L5.41 20z\"/>\n",
              "  </svg>\n",
              "      </button>\n",
              "      \n",
              "  <style>\n",
              "    .colab-df-container {\n",
              "      display:flex;\n",
              "      flex-wrap:wrap;\n",
              "      gap: 12px;\n",
              "    }\n",
              "\n",
              "    .colab-df-convert {\n",
              "      background-color: #E8F0FE;\n",
              "      border: none;\n",
              "      border-radius: 50%;\n",
              "      cursor: pointer;\n",
              "      display: none;\n",
              "      fill: #1967D2;\n",
              "      height: 32px;\n",
              "      padding: 0 0 0 0;\n",
              "      width: 32px;\n",
              "    }\n",
              "\n",
              "    .colab-df-convert:hover {\n",
              "      background-color: #E2EBFA;\n",
              "      box-shadow: 0px 1px 2px rgba(60, 64, 67, 0.3), 0px 1px 3px 1px rgba(60, 64, 67, 0.15);\n",
              "      fill: #174EA6;\n",
              "    }\n",
              "\n",
              "    [theme=dark] .colab-df-convert {\n",
              "      background-color: #3B4455;\n",
              "      fill: #D2E3FC;\n",
              "    }\n",
              "\n",
              "    [theme=dark] .colab-df-convert:hover {\n",
              "      background-color: #434B5C;\n",
              "      box-shadow: 0px 1px 3px 1px rgba(0, 0, 0, 0.15);\n",
              "      filter: drop-shadow(0px 1px 2px rgba(0, 0, 0, 0.3));\n",
              "      fill: #FFFFFF;\n",
              "    }\n",
              "  </style>\n",
              "\n",
              "      <script>\n",
              "        const buttonEl =\n",
              "          document.querySelector('#df-a5dc96fe-8da4-4be8-97bb-b8eef9683e74 button.colab-df-convert');\n",
              "        buttonEl.style.display =\n",
              "          google.colab.kernel.accessAllowed ? 'block' : 'none';\n",
              "\n",
              "        async function convertToInteractive(key) {\n",
              "          const element = document.querySelector('#df-a5dc96fe-8da4-4be8-97bb-b8eef9683e74');\n",
              "          const dataTable =\n",
              "            await google.colab.kernel.invokeFunction('convertToInteractive',\n",
              "                                                     [key], {});\n",
              "          if (!dataTable) return;\n",
              "\n",
              "          const docLinkHtml = 'Like what you see? Visit the ' +\n",
              "            '<a target=\"_blank\" href=https://colab.research.google.com/notebooks/data_table.ipynb>data table notebook</a>'\n",
              "            + ' to learn more about interactive tables.';\n",
              "          element.innerHTML = '';\n",
              "          dataTable['output_type'] = 'display_data';\n",
              "          await google.colab.output.renderOutput(dataTable, element);\n",
              "          const docLink = document.createElement('div');\n",
              "          docLink.innerHTML = docLinkHtml;\n",
              "          element.appendChild(docLink);\n",
              "        }\n",
              "      </script>\n",
              "    </div>\n",
              "  </div>\n",
              "  "
            ],
            "text/plain": [
              "   filename                bbox  width  height     label  xmin  ymin  xmax  \\\n",
              "0  0_16.jpg  [559, 213, 50, 32]   1280     720  starfish   559   213   609   \n",
              "1  0_17.jpg  [558, 213, 50, 32]   1280     720  starfish   558   213   608   \n",
              "2  0_18.jpg  [557, 213, 50, 32]   1280     720  starfish   557   213   607   \n",
              "3  0_19.jpg  [556, 214, 50, 32]   1280     720  starfish   556   214   606   \n",
              "4  0_20.jpg  [555, 214, 50, 32]   1280     720  starfish   555   214   605   \n",
              "\n",
              "   ymax  \n",
              "0   245  \n",
              "1   245  \n",
              "2   245  \n",
              "3   246  \n",
              "4   246  "
            ]
          },
          "metadata": {},
          "execution_count": 71
        }
      ]
    },
    {
      "cell_type": "code",
      "source": [
        "root_dir = './'\n",
        "train_dir = os.path.join(root_dir,'dataset')"
      ],
      "metadata": {
        "execution": {
          "iopub.status.busy": "2022-02-05T08:21:10.698672Z",
          "iopub.execute_input": "2022-02-05T08:21:10.700467Z",
          "iopub.status.idle": "2022-02-05T08:21:10.71808Z",
          "shell.execute_reply.started": "2022-02-05T08:21:10.700387Z",
          "shell.execute_reply": "2022-02-05T08:21:10.716996Z"
        },
        "trusted": true,
        "id": "0fzZj-6l2EgP"
      },
      "execution_count": null,
      "outputs": []
    },
    {
      "cell_type": "code",
      "source": [
        "df['image_name'] = train_dir+'/'+df['filename']"
      ],
      "metadata": {
        "execution": {
          "iopub.status.busy": "2022-02-05T08:21:13.815963Z",
          "iopub.execute_input": "2022-02-05T08:21:13.816836Z",
          "iopub.status.idle": "2022-02-05T08:21:13.834325Z",
          "shell.execute_reply.started": "2022-02-05T08:21:13.816778Z",
          "shell.execute_reply": "2022-02-05T08:21:13.833187Z"
        },
        "trusted": true,
        "id": "DKbuXFsx2EgR"
      },
      "execution_count": null,
      "outputs": []
    },
    {
      "cell_type": "code",
      "source": [
        "df.head()"
      ],
      "metadata": {
        "execution": {
          "iopub.status.busy": "2022-02-05T08:21:17.982538Z",
          "iopub.execute_input": "2022-02-05T08:21:17.983256Z",
          "iopub.status.idle": "2022-02-05T08:21:18.003144Z",
          "shell.execute_reply.started": "2022-02-05T08:21:17.983216Z",
          "shell.execute_reply": "2022-02-05T08:21:18.002144Z"
        },
        "trusted": true,
        "colab": {
          "base_uri": "https://localhost:8080/",
          "height": 206
        },
        "id": "6cQN7oHf2EgR",
        "outputId": "3d5d5a14-b0d8-4c92-d14a-d23bf19e105c"
      },
      "execution_count": null,
      "outputs": [
        {
          "output_type": "execute_result",
          "data": {
            "text/html": [
              "\n",
              "  <div id=\"df-332f85ad-a7f5-4555-937a-ae5ff61aa7b4\">\n",
              "    <div class=\"colab-df-container\">\n",
              "      <div>\n",
              "<style scoped>\n",
              "    .dataframe tbody tr th:only-of-type {\n",
              "        vertical-align: middle;\n",
              "    }\n",
              "\n",
              "    .dataframe tbody tr th {\n",
              "        vertical-align: top;\n",
              "    }\n",
              "\n",
              "    .dataframe thead th {\n",
              "        text-align: right;\n",
              "    }\n",
              "</style>\n",
              "<table border=\"1\" class=\"dataframe\">\n",
              "  <thead>\n",
              "    <tr style=\"text-align: right;\">\n",
              "      <th></th>\n",
              "      <th>filename</th>\n",
              "      <th>bbox</th>\n",
              "      <th>width</th>\n",
              "      <th>height</th>\n",
              "      <th>label</th>\n",
              "      <th>xmin</th>\n",
              "      <th>ymin</th>\n",
              "      <th>xmax</th>\n",
              "      <th>ymax</th>\n",
              "      <th>image_name</th>\n",
              "    </tr>\n",
              "  </thead>\n",
              "  <tbody>\n",
              "    <tr>\n",
              "      <th>0</th>\n",
              "      <td>0_16.jpg</td>\n",
              "      <td>[559, 213, 50, 32]</td>\n",
              "      <td>1280</td>\n",
              "      <td>720</td>\n",
              "      <td>starfish</td>\n",
              "      <td>559</td>\n",
              "      <td>213</td>\n",
              "      <td>609</td>\n",
              "      <td>245</td>\n",
              "      <td>./dataset/0_16.jpg</td>\n",
              "    </tr>\n",
              "    <tr>\n",
              "      <th>1</th>\n",
              "      <td>0_17.jpg</td>\n",
              "      <td>[558, 213, 50, 32]</td>\n",
              "      <td>1280</td>\n",
              "      <td>720</td>\n",
              "      <td>starfish</td>\n",
              "      <td>558</td>\n",
              "      <td>213</td>\n",
              "      <td>608</td>\n",
              "      <td>245</td>\n",
              "      <td>./dataset/0_17.jpg</td>\n",
              "    </tr>\n",
              "    <tr>\n",
              "      <th>2</th>\n",
              "      <td>0_18.jpg</td>\n",
              "      <td>[557, 213, 50, 32]</td>\n",
              "      <td>1280</td>\n",
              "      <td>720</td>\n",
              "      <td>starfish</td>\n",
              "      <td>557</td>\n",
              "      <td>213</td>\n",
              "      <td>607</td>\n",
              "      <td>245</td>\n",
              "      <td>./dataset/0_18.jpg</td>\n",
              "    </tr>\n",
              "    <tr>\n",
              "      <th>3</th>\n",
              "      <td>0_19.jpg</td>\n",
              "      <td>[556, 214, 50, 32]</td>\n",
              "      <td>1280</td>\n",
              "      <td>720</td>\n",
              "      <td>starfish</td>\n",
              "      <td>556</td>\n",
              "      <td>214</td>\n",
              "      <td>606</td>\n",
              "      <td>246</td>\n",
              "      <td>./dataset/0_19.jpg</td>\n",
              "    </tr>\n",
              "    <tr>\n",
              "      <th>4</th>\n",
              "      <td>0_20.jpg</td>\n",
              "      <td>[555, 214, 50, 32]</td>\n",
              "      <td>1280</td>\n",
              "      <td>720</td>\n",
              "      <td>starfish</td>\n",
              "      <td>555</td>\n",
              "      <td>214</td>\n",
              "      <td>605</td>\n",
              "      <td>246</td>\n",
              "      <td>./dataset/0_20.jpg</td>\n",
              "    </tr>\n",
              "  </tbody>\n",
              "</table>\n",
              "</div>\n",
              "      <button class=\"colab-df-convert\" onclick=\"convertToInteractive('df-332f85ad-a7f5-4555-937a-ae5ff61aa7b4')\"\n",
              "              title=\"Convert this dataframe to an interactive table.\"\n",
              "              style=\"display:none;\">\n",
              "        \n",
              "  <svg xmlns=\"http://www.w3.org/2000/svg\" height=\"24px\"viewBox=\"0 0 24 24\"\n",
              "       width=\"24px\">\n",
              "    <path d=\"M0 0h24v24H0V0z\" fill=\"none\"/>\n",
              "    <path d=\"M18.56 5.44l.94 2.06.94-2.06 2.06-.94-2.06-.94-.94-2.06-.94 2.06-2.06.94zm-11 1L8.5 8.5l.94-2.06 2.06-.94-2.06-.94L8.5 2.5l-.94 2.06-2.06.94zm10 10l.94 2.06.94-2.06 2.06-.94-2.06-.94-.94-2.06-.94 2.06-2.06.94z\"/><path d=\"M17.41 7.96l-1.37-1.37c-.4-.4-.92-.59-1.43-.59-.52 0-1.04.2-1.43.59L10.3 9.45l-7.72 7.72c-.78.78-.78 2.05 0 2.83L4 21.41c.39.39.9.59 1.41.59.51 0 1.02-.2 1.41-.59l7.78-7.78 2.81-2.81c.8-.78.8-2.07 0-2.86zM5.41 20L4 18.59l7.72-7.72 1.47 1.35L5.41 20z\"/>\n",
              "  </svg>\n",
              "      </button>\n",
              "      \n",
              "  <style>\n",
              "    .colab-df-container {\n",
              "      display:flex;\n",
              "      flex-wrap:wrap;\n",
              "      gap: 12px;\n",
              "    }\n",
              "\n",
              "    .colab-df-convert {\n",
              "      background-color: #E8F0FE;\n",
              "      border: none;\n",
              "      border-radius: 50%;\n",
              "      cursor: pointer;\n",
              "      display: none;\n",
              "      fill: #1967D2;\n",
              "      height: 32px;\n",
              "      padding: 0 0 0 0;\n",
              "      width: 32px;\n",
              "    }\n",
              "\n",
              "    .colab-df-convert:hover {\n",
              "      background-color: #E2EBFA;\n",
              "      box-shadow: 0px 1px 2px rgba(60, 64, 67, 0.3), 0px 1px 3px 1px rgba(60, 64, 67, 0.15);\n",
              "      fill: #174EA6;\n",
              "    }\n",
              "\n",
              "    [theme=dark] .colab-df-convert {\n",
              "      background-color: #3B4455;\n",
              "      fill: #D2E3FC;\n",
              "    }\n",
              "\n",
              "    [theme=dark] .colab-df-convert:hover {\n",
              "      background-color: #434B5C;\n",
              "      box-shadow: 0px 1px 3px 1px rgba(0, 0, 0, 0.15);\n",
              "      filter: drop-shadow(0px 1px 2px rgba(0, 0, 0, 0.3));\n",
              "      fill: #FFFFFF;\n",
              "    }\n",
              "  </style>\n",
              "\n",
              "      <script>\n",
              "        const buttonEl =\n",
              "          document.querySelector('#df-332f85ad-a7f5-4555-937a-ae5ff61aa7b4 button.colab-df-convert');\n",
              "        buttonEl.style.display =\n",
              "          google.colab.kernel.accessAllowed ? 'block' : 'none';\n",
              "\n",
              "        async function convertToInteractive(key) {\n",
              "          const element = document.querySelector('#df-332f85ad-a7f5-4555-937a-ae5ff61aa7b4');\n",
              "          const dataTable =\n",
              "            await google.colab.kernel.invokeFunction('convertToInteractive',\n",
              "                                                     [key], {});\n",
              "          if (!dataTable) return;\n",
              "\n",
              "          const docLinkHtml = 'Like what you see? Visit the ' +\n",
              "            '<a target=\"_blank\" href=https://colab.research.google.com/notebooks/data_table.ipynb>data table notebook</a>'\n",
              "            + ' to learn more about interactive tables.';\n",
              "          element.innerHTML = '';\n",
              "          dataTable['output_type'] = 'display_data';\n",
              "          await google.colab.output.renderOutput(dataTable, element);\n",
              "          const docLink = document.createElement('div');\n",
              "          docLink.innerHTML = docLinkHtml;\n",
              "          element.appendChild(docLink);\n",
              "        }\n",
              "      </script>\n",
              "    </div>\n",
              "  </div>\n",
              "  "
            ],
            "text/plain": [
              "   filename                bbox  width  height     label  xmin  ymin  xmax  \\\n",
              "0  0_16.jpg  [559, 213, 50, 32]   1280     720  starfish   559   213   609   \n",
              "1  0_17.jpg  [558, 213, 50, 32]   1280     720  starfish   558   213   608   \n",
              "2  0_18.jpg  [557, 213, 50, 32]   1280     720  starfish   557   213   607   \n",
              "3  0_19.jpg  [556, 214, 50, 32]   1280     720  starfish   556   214   606   \n",
              "4  0_20.jpg  [555, 214, 50, 32]   1280     720  starfish   555   214   605   \n",
              "\n",
              "   ymax          image_name  \n",
              "0   245  ./dataset/0_16.jpg  \n",
              "1   245  ./dataset/0_17.jpg  \n",
              "2   245  ./dataset/0_18.jpg  \n",
              "3   246  ./dataset/0_19.jpg  \n",
              "4   246  ./dataset/0_20.jpg  "
            ]
          },
          "metadata": {},
          "execution_count": 74
        }
      ]
    },
    {
      "cell_type": "code",
      "source": [
        "df['xmin'] = df['xmin'].astype(int)\n",
        "df['ymin'] = df['ymin'].astype(int)\n",
        "df['xmax'] = df['xmax'].astype(int)\n",
        "df['ymax'] = df['ymax'].astype(int)"
      ],
      "metadata": {
        "execution": {
          "iopub.status.busy": "2022-02-05T08:21:22.281527Z",
          "iopub.execute_input": "2022-02-05T08:21:22.282384Z",
          "iopub.status.idle": "2022-02-05T08:21:22.291177Z",
          "shell.execute_reply.started": "2022-02-05T08:21:22.282331Z",
          "shell.execute_reply": "2022-02-05T08:21:22.290274Z"
        },
        "trusted": true,
        "id": "-j7YZn-62EgS"
      },
      "execution_count": null,
      "outputs": []
    },
    {
      "cell_type": "code",
      "source": [
        "df.drop(columns=['filename', 'width','height'], axis=1, inplace=True)"
      ],
      "metadata": {
        "execution": {
          "iopub.status.busy": "2022-02-05T08:21:53.689804Z",
          "iopub.execute_input": "2022-02-05T08:21:53.69014Z",
          "iopub.status.idle": "2022-02-05T08:21:53.700457Z",
          "shell.execute_reply.started": "2022-02-05T08:21:53.69011Z",
          "shell.execute_reply": "2022-02-05T08:21:53.699472Z"
        },
        "trusted": true,
        "id": "7FxOqbfS2EgU"
      },
      "execution_count": null,
      "outputs": []
    },
    {
      "cell_type": "code",
      "source": [
        "column_names = [\"image_name\",\"bbox\" ,\"xmin\", \"ymin\", \"xmax\", \"ymax\", \"label\"]\n",
        "df = df.reindex(columns=column_names)"
      ],
      "metadata": {
        "execution": {
          "iopub.status.busy": "2022-02-05T08:21:57.903691Z",
          "iopub.execute_input": "2022-02-05T08:21:57.904312Z",
          "iopub.status.idle": "2022-02-05T08:21:57.912592Z",
          "shell.execute_reply.started": "2022-02-05T08:21:57.904259Z",
          "shell.execute_reply": "2022-02-05T08:21:57.911514Z"
        },
        "trusted": true,
        "id": "4yt-ETZf2EgV"
      },
      "execution_count": null,
      "outputs": []
    },
    {
      "cell_type": "code",
      "source": [
        "df.to_csv('mainframe.csv',index=False)"
      ],
      "metadata": {
        "execution": {
          "iopub.status.busy": "2022-02-05T08:25:35.241603Z",
          "iopub.execute_input": "2022-02-05T08:25:35.241947Z",
          "iopub.status.idle": "2022-02-05T08:25:35.31952Z",
          "shell.execute_reply.started": "2022-02-05T08:25:35.241911Z",
          "shell.execute_reply": "2022-02-05T08:25:35.318387Z"
        },
        "trusted": true,
        "id": "n2Lt1e5s2Egd"
      },
      "execution_count": null,
      "outputs": []
    },
    {
      "cell_type": "code",
      "source": [
        "df.head()"
      ],
      "metadata": {
        "execution": {
          "iopub.status.busy": "2022-02-05T08:22:01.361159Z",
          "iopub.execute_input": "2022-02-05T08:22:01.36145Z",
          "iopub.status.idle": "2022-02-05T08:22:01.37692Z",
          "shell.execute_reply.started": "2022-02-05T08:22:01.36142Z",
          "shell.execute_reply": "2022-02-05T08:22:01.375948Z"
        },
        "trusted": true,
        "colab": {
          "base_uri": "https://localhost:8080/",
          "height": 206
        },
        "id": "FM1aw8fR2EgX",
        "outputId": "6295e273-2938-4df4-a8e5-57ac528aac10"
      },
      "execution_count": null,
      "outputs": [
        {
          "output_type": "execute_result",
          "data": {
            "text/html": [
              "\n",
              "  <div id=\"df-64cdbd20-6804-41ca-9afe-22627cc76fe6\">\n",
              "    <div class=\"colab-df-container\">\n",
              "      <div>\n",
              "<style scoped>\n",
              "    .dataframe tbody tr th:only-of-type {\n",
              "        vertical-align: middle;\n",
              "    }\n",
              "\n",
              "    .dataframe tbody tr th {\n",
              "        vertical-align: top;\n",
              "    }\n",
              "\n",
              "    .dataframe thead th {\n",
              "        text-align: right;\n",
              "    }\n",
              "</style>\n",
              "<table border=\"1\" class=\"dataframe\">\n",
              "  <thead>\n",
              "    <tr style=\"text-align: right;\">\n",
              "      <th></th>\n",
              "      <th>image_name</th>\n",
              "      <th>bbox</th>\n",
              "      <th>xmin</th>\n",
              "      <th>ymin</th>\n",
              "      <th>xmax</th>\n",
              "      <th>ymax</th>\n",
              "      <th>label</th>\n",
              "    </tr>\n",
              "  </thead>\n",
              "  <tbody>\n",
              "    <tr>\n",
              "      <th>0</th>\n",
              "      <td>./dataset/0_16.jpg</td>\n",
              "      <td>[559, 213, 50, 32]</td>\n",
              "      <td>559</td>\n",
              "      <td>213</td>\n",
              "      <td>609</td>\n",
              "      <td>245</td>\n",
              "      <td>starfish</td>\n",
              "    </tr>\n",
              "    <tr>\n",
              "      <th>1</th>\n",
              "      <td>./dataset/0_17.jpg</td>\n",
              "      <td>[558, 213, 50, 32]</td>\n",
              "      <td>558</td>\n",
              "      <td>213</td>\n",
              "      <td>608</td>\n",
              "      <td>245</td>\n",
              "      <td>starfish</td>\n",
              "    </tr>\n",
              "    <tr>\n",
              "      <th>2</th>\n",
              "      <td>./dataset/0_18.jpg</td>\n",
              "      <td>[557, 213, 50, 32]</td>\n",
              "      <td>557</td>\n",
              "      <td>213</td>\n",
              "      <td>607</td>\n",
              "      <td>245</td>\n",
              "      <td>starfish</td>\n",
              "    </tr>\n",
              "    <tr>\n",
              "      <th>3</th>\n",
              "      <td>./dataset/0_19.jpg</td>\n",
              "      <td>[556, 214, 50, 32]</td>\n",
              "      <td>556</td>\n",
              "      <td>214</td>\n",
              "      <td>606</td>\n",
              "      <td>246</td>\n",
              "      <td>starfish</td>\n",
              "    </tr>\n",
              "    <tr>\n",
              "      <th>4</th>\n",
              "      <td>./dataset/0_20.jpg</td>\n",
              "      <td>[555, 214, 50, 32]</td>\n",
              "      <td>555</td>\n",
              "      <td>214</td>\n",
              "      <td>605</td>\n",
              "      <td>246</td>\n",
              "      <td>starfish</td>\n",
              "    </tr>\n",
              "  </tbody>\n",
              "</table>\n",
              "</div>\n",
              "      <button class=\"colab-df-convert\" onclick=\"convertToInteractive('df-64cdbd20-6804-41ca-9afe-22627cc76fe6')\"\n",
              "              title=\"Convert this dataframe to an interactive table.\"\n",
              "              style=\"display:none;\">\n",
              "        \n",
              "  <svg xmlns=\"http://www.w3.org/2000/svg\" height=\"24px\"viewBox=\"0 0 24 24\"\n",
              "       width=\"24px\">\n",
              "    <path d=\"M0 0h24v24H0V0z\" fill=\"none\"/>\n",
              "    <path d=\"M18.56 5.44l.94 2.06.94-2.06 2.06-.94-2.06-.94-.94-2.06-.94 2.06-2.06.94zm-11 1L8.5 8.5l.94-2.06 2.06-.94-2.06-.94L8.5 2.5l-.94 2.06-2.06.94zm10 10l.94 2.06.94-2.06 2.06-.94-2.06-.94-.94-2.06-.94 2.06-2.06.94z\"/><path d=\"M17.41 7.96l-1.37-1.37c-.4-.4-.92-.59-1.43-.59-.52 0-1.04.2-1.43.59L10.3 9.45l-7.72 7.72c-.78.78-.78 2.05 0 2.83L4 21.41c.39.39.9.59 1.41.59.51 0 1.02-.2 1.41-.59l7.78-7.78 2.81-2.81c.8-.78.8-2.07 0-2.86zM5.41 20L4 18.59l7.72-7.72 1.47 1.35L5.41 20z\"/>\n",
              "  </svg>\n",
              "      </button>\n",
              "      \n",
              "  <style>\n",
              "    .colab-df-container {\n",
              "      display:flex;\n",
              "      flex-wrap:wrap;\n",
              "      gap: 12px;\n",
              "    }\n",
              "\n",
              "    .colab-df-convert {\n",
              "      background-color: #E8F0FE;\n",
              "      border: none;\n",
              "      border-radius: 50%;\n",
              "      cursor: pointer;\n",
              "      display: none;\n",
              "      fill: #1967D2;\n",
              "      height: 32px;\n",
              "      padding: 0 0 0 0;\n",
              "      width: 32px;\n",
              "    }\n",
              "\n",
              "    .colab-df-convert:hover {\n",
              "      background-color: #E2EBFA;\n",
              "      box-shadow: 0px 1px 2px rgba(60, 64, 67, 0.3), 0px 1px 3px 1px rgba(60, 64, 67, 0.15);\n",
              "      fill: #174EA6;\n",
              "    }\n",
              "\n",
              "    [theme=dark] .colab-df-convert {\n",
              "      background-color: #3B4455;\n",
              "      fill: #D2E3FC;\n",
              "    }\n",
              "\n",
              "    [theme=dark] .colab-df-convert:hover {\n",
              "      background-color: #434B5C;\n",
              "      box-shadow: 0px 1px 3px 1px rgba(0, 0, 0, 0.15);\n",
              "      filter: drop-shadow(0px 1px 2px rgba(0, 0, 0, 0.3));\n",
              "      fill: #FFFFFF;\n",
              "    }\n",
              "  </style>\n",
              "\n",
              "      <script>\n",
              "        const buttonEl =\n",
              "          document.querySelector('#df-64cdbd20-6804-41ca-9afe-22627cc76fe6 button.colab-df-convert');\n",
              "        buttonEl.style.display =\n",
              "          google.colab.kernel.accessAllowed ? 'block' : 'none';\n",
              "\n",
              "        async function convertToInteractive(key) {\n",
              "          const element = document.querySelector('#df-64cdbd20-6804-41ca-9afe-22627cc76fe6');\n",
              "          const dataTable =\n",
              "            await google.colab.kernel.invokeFunction('convertToInteractive',\n",
              "                                                     [key], {});\n",
              "          if (!dataTable) return;\n",
              "\n",
              "          const docLinkHtml = 'Like what you see? Visit the ' +\n",
              "            '<a target=\"_blank\" href=https://colab.research.google.com/notebooks/data_table.ipynb>data table notebook</a>'\n",
              "            + ' to learn more about interactive tables.';\n",
              "          element.innerHTML = '';\n",
              "          dataTable['output_type'] = 'display_data';\n",
              "          await google.colab.output.renderOutput(dataTable, element);\n",
              "          const docLink = document.createElement('div');\n",
              "          docLink.innerHTML = docLinkHtml;\n",
              "          element.appendChild(docLink);\n",
              "        }\n",
              "      </script>\n",
              "    </div>\n",
              "  </div>\n",
              "  "
            ],
            "text/plain": [
              "           image_name                bbox  xmin  ymin  xmax  ymax     label\n",
              "0  ./dataset/0_16.jpg  [559, 213, 50, 32]   559   213   609   245  starfish\n",
              "1  ./dataset/0_17.jpg  [558, 213, 50, 32]   558   213   608   245  starfish\n",
              "2  ./dataset/0_18.jpg  [557, 213, 50, 32]   557   213   607   245  starfish\n",
              "3  ./dataset/0_19.jpg  [556, 214, 50, 32]   556   214   606   246  starfish\n",
              "4  ./dataset/0_20.jpg  [555, 214, 50, 32]   555   214   605   246  starfish"
            ]
          },
          "metadata": {},
          "execution_count": 89
        }
      ]
    },
    {
      "cell_type": "code",
      "source": [
        "!pip install -Uqq fastbook"
      ],
      "metadata": {
        "id": "duC-9JlTAnT4"
      },
      "execution_count": null,
      "outputs": []
    },
    {
      "cell_type": "code",
      "source": [
        "\n",
        "import fastbook\n",
        "from fastbook import *\n",
        "from fastai.vision import *\n",
        "from fastai.callback.tracker import SaveModelCallback"
      ],
      "metadata": {
        "execution": {
          "iopub.status.busy": "2022-02-05T08:22:30.523749Z",
          "iopub.execute_input": "2022-02-05T08:22:30.524124Z",
          "iopub.status.idle": "2022-02-05T08:22:30.534285Z",
          "shell.execute_reply.started": "2022-02-05T08:22:30.524055Z",
          "shell.execute_reply": "2022-02-05T08:22:30.533259Z"
        },
        "trusted": true,
        "id": "lX3tY8tj2EgY"
      },
      "execution_count": null,
      "outputs": []
    },
    {
      "cell_type": "code",
      "source": [
        "fastbook.setup_book()"
      ],
      "metadata": {
        "execution": {
          "iopub.status.busy": "2022-02-05T08:22:40.194939Z",
          "iopub.execute_input": "2022-02-05T08:22:40.195407Z",
          "iopub.status.idle": "2022-02-05T08:22:40.199915Z",
          "shell.execute_reply.started": "2022-02-05T08:22:40.195375Z",
          "shell.execute_reply": "2022-02-05T08:22:40.199238Z"
        },
        "trusted": true,
        "colab": {
          "base_uri": "https://localhost:8080/",
          "height": 313
        },
        "id": "9QwuX8qK2Ega",
        "outputId": "7311a124-d44f-49d8-c8f7-1ea32bc7d59b"
      },
      "execution_count": null,
      "outputs": [
        {
          "output_type": "error",
          "ename": "OSError",
          "evalue": "ignored",
          "traceback": [
            "\u001b[0;31m---------------------------------------------------------------------------\u001b[0m",
            "\u001b[0;31mOSError\u001b[0m                                   Traceback (most recent call last)",
            "\u001b[0;32m<ipython-input-94-fce0e354ba4c>\u001b[0m in \u001b[0;36m<module>\u001b[0;34m()\u001b[0m\n\u001b[0;32m----> 1\u001b[0;31m \u001b[0mfastbook\u001b[0m\u001b[0;34m.\u001b[0m\u001b[0msetup_book\u001b[0m\u001b[0;34m(\u001b[0m\u001b[0;34m)\u001b[0m\u001b[0;34m\u001b[0m\u001b[0;34m\u001b[0m\u001b[0m\n\u001b[0m",
            "\u001b[0;32m/usr/local/lib/python3.7/dist-packages/fastbook/__init__.py\u001b[0m in \u001b[0;36msetup_book\u001b[0;34m()\u001b[0m\n\u001b[1;32m     38\u001b[0m \u001b[0;34m\u001b[0m\u001b[0m\n\u001b[1;32m     39\u001b[0m \u001b[0;32mdef\u001b[0m \u001b[0msetup_book\u001b[0m\u001b[0;34m(\u001b[0m\u001b[0;34m)\u001b[0m\u001b[0;34m:\u001b[0m\u001b[0;34m\u001b[0m\u001b[0;34m\u001b[0m\u001b[0m\n\u001b[0;32m---> 40\u001b[0;31m     \u001b[0;32mif\u001b[0m \u001b[0mIN_COLAB\u001b[0m\u001b[0;34m:\u001b[0m \u001b[0;32mreturn\u001b[0m \u001b[0msetup_colab\u001b[0m\u001b[0;34m(\u001b[0m\u001b[0;34m)\u001b[0m\u001b[0;34m\u001b[0m\u001b[0;34m\u001b[0m\u001b[0m\n\u001b[0m\u001b[1;32m     41\u001b[0m \u001b[0;34m\u001b[0m\u001b[0m\n\u001b[1;32m     42\u001b[0m \u001b[0;32mdef\u001b[0m \u001b[0mgv\u001b[0m\u001b[0;34m(\u001b[0m\u001b[0ms\u001b[0m\u001b[0;34m)\u001b[0m\u001b[0;34m:\u001b[0m \u001b[0;32mreturn\u001b[0m \u001b[0mgraphviz\u001b[0m\u001b[0;34m.\u001b[0m\u001b[0mSource\u001b[0m\u001b[0;34m(\u001b[0m\u001b[0;34m'digraph G{ rankdir=\"LR\"'\u001b[0m \u001b[0;34m+\u001b[0m \u001b[0ms\u001b[0m \u001b[0;34m+\u001b[0m \u001b[0;34m'; }'\u001b[0m\u001b[0;34m)\u001b[0m\u001b[0;34m\u001b[0m\u001b[0;34m\u001b[0m\u001b[0m\n",
            "\u001b[0;32m/usr/local/lib/python3.7/dist-packages/fastbook/__init__.py\u001b[0m in \u001b[0;36msetup_colab\u001b[0;34m()\u001b[0m\n\u001b[1;32m     35\u001b[0m     \u001b[0mgdrive\u001b[0m \u001b[0;34m=\u001b[0m \u001b[0mPath\u001b[0m\u001b[0;34m(\u001b[0m\u001b[0;34m'/content/gdrive/My Drive'\u001b[0m\u001b[0;34m)\u001b[0m\u001b[0;34m\u001b[0m\u001b[0;34m\u001b[0m\u001b[0m\n\u001b[1;32m     36\u001b[0m     \u001b[0;32mfrom\u001b[0m \u001b[0mgoogle\u001b[0m\u001b[0;34m.\u001b[0m\u001b[0mcolab\u001b[0m \u001b[0;32mimport\u001b[0m \u001b[0mdrive\u001b[0m\u001b[0;34m\u001b[0m\u001b[0;34m\u001b[0m\u001b[0m\n\u001b[0;32m---> 37\u001b[0;31m     \u001b[0;32mif\u001b[0m \u001b[0;32mnot\u001b[0m \u001b[0mgdrive\u001b[0m\u001b[0;34m.\u001b[0m\u001b[0mexists\u001b[0m\u001b[0;34m(\u001b[0m\u001b[0;34m)\u001b[0m\u001b[0;34m:\u001b[0m \u001b[0mdrive\u001b[0m\u001b[0;34m.\u001b[0m\u001b[0mmount\u001b[0m\u001b[0;34m(\u001b[0m\u001b[0mstr\u001b[0m\u001b[0;34m(\u001b[0m\u001b[0mgdrive\u001b[0m\u001b[0;34m.\u001b[0m\u001b[0mparent\u001b[0m\u001b[0;34m)\u001b[0m\u001b[0;34m)\u001b[0m\u001b[0;34m\u001b[0m\u001b[0;34m\u001b[0m\u001b[0m\n\u001b[0m\u001b[1;32m     38\u001b[0m \u001b[0;34m\u001b[0m\u001b[0m\n\u001b[1;32m     39\u001b[0m \u001b[0;32mdef\u001b[0m \u001b[0msetup_book\u001b[0m\u001b[0;34m(\u001b[0m\u001b[0;34m)\u001b[0m\u001b[0;34m:\u001b[0m\u001b[0;34m\u001b[0m\u001b[0;34m\u001b[0m\u001b[0m\n",
            "\u001b[0;32m/usr/lib/python3.7/pathlib.py\u001b[0m in \u001b[0;36mexists\u001b[0;34m(self)\u001b[0m\n\u001b[1;32m   1359\u001b[0m         \"\"\"\n\u001b[1;32m   1360\u001b[0m         \u001b[0;32mtry\u001b[0m\u001b[0;34m:\u001b[0m\u001b[0;34m\u001b[0m\u001b[0;34m\u001b[0m\u001b[0m\n\u001b[0;32m-> 1361\u001b[0;31m             \u001b[0mself\u001b[0m\u001b[0;34m.\u001b[0m\u001b[0mstat\u001b[0m\u001b[0;34m(\u001b[0m\u001b[0;34m)\u001b[0m\u001b[0;34m\u001b[0m\u001b[0;34m\u001b[0m\u001b[0m\n\u001b[0m\u001b[1;32m   1362\u001b[0m         \u001b[0;32mexcept\u001b[0m \u001b[0mOSError\u001b[0m \u001b[0;32mas\u001b[0m \u001b[0me\u001b[0m\u001b[0;34m:\u001b[0m\u001b[0;34m\u001b[0m\u001b[0;34m\u001b[0m\u001b[0m\n\u001b[1;32m   1363\u001b[0m             \u001b[0;32mif\u001b[0m \u001b[0;32mnot\u001b[0m \u001b[0m_ignore_error\u001b[0m\u001b[0;34m(\u001b[0m\u001b[0me\u001b[0m\u001b[0;34m)\u001b[0m\u001b[0;34m:\u001b[0m\u001b[0;34m\u001b[0m\u001b[0;34m\u001b[0m\u001b[0m\n",
            "\u001b[0;32m/usr/lib/python3.7/pathlib.py\u001b[0m in \u001b[0;36mstat\u001b[0;34m(self)\u001b[0m\n\u001b[1;32m   1181\u001b[0m         \u001b[0mos\u001b[0m\u001b[0;34m.\u001b[0m\u001b[0mstat\u001b[0m\u001b[0;34m(\u001b[0m\u001b[0;34m)\u001b[0m \u001b[0mdoes\u001b[0m\u001b[0;34m.\u001b[0m\u001b[0;34m\u001b[0m\u001b[0;34m\u001b[0m\u001b[0m\n\u001b[1;32m   1182\u001b[0m         \"\"\"\n\u001b[0;32m-> 1183\u001b[0;31m         \u001b[0;32mreturn\u001b[0m \u001b[0mself\u001b[0m\u001b[0;34m.\u001b[0m\u001b[0m_accessor\u001b[0m\u001b[0;34m.\u001b[0m\u001b[0mstat\u001b[0m\u001b[0;34m(\u001b[0m\u001b[0mself\u001b[0m\u001b[0;34m)\u001b[0m\u001b[0;34m\u001b[0m\u001b[0;34m\u001b[0m\u001b[0m\n\u001b[0m\u001b[1;32m   1184\u001b[0m \u001b[0;34m\u001b[0m\u001b[0m\n\u001b[1;32m   1185\u001b[0m     \u001b[0;32mdef\u001b[0m \u001b[0mowner\u001b[0m\u001b[0;34m(\u001b[0m\u001b[0mself\u001b[0m\u001b[0;34m)\u001b[0m\u001b[0;34m:\u001b[0m\u001b[0;34m\u001b[0m\u001b[0;34m\u001b[0m\u001b[0m\n",
            "\u001b[0;31mOSError\u001b[0m: [Errno 107] Transport endpoint is not connected: '/content/gdrive/My Drive'"
          ]
        }
      ]
    },
    {
      "cell_type": "code",
      "source": [
        "import numpy as np # linear algebra\n",
        "import pandas as pd # data processing, CSV file I/O (e.g. pd.read_csv)\n",
        "from collections import defaultdict\n",
        "import os\n",
        "from fastai.callback import *\n",
        "import seaborn as sns \n",
        "import matplotlib.pyplot as plt\n",
        "import matplotlib.image as immg\n",
        "from sklearn.model_selection import StratifiedKFold,KFold"
      ],
      "metadata": {
        "execution": {
          "iopub.status.busy": "2022-02-05T08:25:21.035848Z",
          "iopub.execute_input": "2022-02-05T08:25:21.036606Z",
          "iopub.status.idle": "2022-02-05T08:25:21.042407Z",
          "shell.execute_reply.started": "2022-02-05T08:25:21.036558Z",
          "shell.execute_reply": "2022-02-05T08:25:21.041319Z"
        },
        "trusted": true,
        "id": "01VsGrD72Egb"
      },
      "execution_count": null,
      "outputs": []
    },
    {
      "cell_type": "code",
      "source": [
        "df.head(5)"
      ],
      "metadata": {
        "execution": {
          "iopub.status.busy": "2022-02-05T08:25:26.056324Z",
          "iopub.execute_input": "2022-02-05T08:25:26.057244Z",
          "iopub.status.idle": "2022-02-05T08:25:26.074705Z",
          "shell.execute_reply.started": "2022-02-05T08:25:26.057189Z",
          "shell.execute_reply": "2022-02-05T08:25:26.074045Z"
        },
        "trusted": true,
        "id": "SMbxrOqr2Egc"
      },
      "execution_count": null,
      "outputs": []
    },
    {
      "cell_type": "code",
      "source": [
        "path = Path('/content/dataset')"
      ],
      "metadata": {
        "execution": {
          "iopub.status.busy": "2022-02-05T08:32:21.266629Z",
          "iopub.execute_input": "2022-02-05T08:32:21.267234Z",
          "iopub.status.idle": "2022-02-05T08:32:21.272547Z",
          "shell.execute_reply.started": "2022-02-05T08:32:21.267192Z",
          "shell.execute_reply": "2022-02-05T08:32:21.271708Z"
        },
        "trusted": true,
        "id": "QD4jbSip2Egf"
      },
      "execution_count": null,
      "outputs": []
    },
    {
      "cell_type": "code",
      "source": [
        "img_files = get_image_files(path)\n",
        "img = PILImage.create(img_files[100])\n",
        "img"
      ],
      "metadata": {
        "execution": {
          "iopub.status.busy": "2022-02-05T08:32:21.274366Z",
          "iopub.execute_input": "2022-02-05T08:32:21.274974Z",
          "iopub.status.idle": "2022-02-05T08:32:21.756439Z",
          "shell.execute_reply.started": "2022-02-05T08:32:21.274933Z",
          "shell.execute_reply": "2022-02-05T08:32:21.755183Z"
        },
        "trusted": true,
        "id": "yRdKXfPQ2Egg"
      },
      "execution_count": null,
      "outputs": []
    },
    {
      "cell_type": "code",
      "source": [
        "img.to_thumb(180)"
      ],
      "metadata": {
        "execution": {
          "iopub.status.busy": "2022-02-05T08:52:27.70572Z",
          "iopub.execute_input": "2022-02-05T08:52:27.70607Z",
          "iopub.status.idle": "2022-02-05T08:52:27.727217Z",
          "shell.execute_reply.started": "2022-02-05T08:52:27.706039Z",
          "shell.execute_reply": "2022-02-05T08:52:27.725861Z"
        },
        "trusted": true,
        "id": "Fu0JOH_E2Egh"
      },
      "execution_count": null,
      "outputs": []
    },
    {
      "cell_type": "code",
      "source": [
        "path.ls()"
      ],
      "metadata": {
        "execution": {
          "iopub.status.busy": "2022-02-05T08:58:28.065868Z",
          "iopub.execute_input": "2022-02-05T08:58:28.066237Z",
          "iopub.status.idle": "2022-02-05T08:58:28.076185Z",
          "shell.execute_reply.started": "2022-02-05T08:58:28.066203Z",
          "shell.execute_reply": "2022-02-05T08:58:28.075153Z"
        },
        "trusted": true,
        "id": "S8eCeg862Egi"
      },
      "execution_count": null,
      "outputs": []
    },
    {
      "cell_type": "code",
      "source": [
        "img_size = 128\n",
        "augmentations = [\n",
        "        Rotate(10, p=0.4, mode='bilinear'), \n",
        "        Brightness(max_lighting=0.3,p=0.5),\n",
        "        Contrast(max_lighting=0.4, p=0.5),\n",
        "        RandomErasing(p=0.3, sl=0.0, sh=0.2, min_aspect=0.3, max_count=1),\n",
        "        Flip(p=0.5),\n",
        "        Zoom(max_zoom=1,p=0.5),\n",
        "        RandomResizedCrop(img_size)\n",
        "    ]"
      ],
      "metadata": {
        "id": "WJxm5LW7SMRi"
      },
      "execution_count": null,
      "outputs": []
    },
    {
      "cell_type": "code",
      "source": [
        "dblock = DataBlock()"
      ],
      "metadata": {
        "id": "q_DASAsgZULK"
      },
      "execution_count": null,
      "outputs": []
    },
    {
      "cell_type": "code",
      "source": [
        "dsets = dblock.datasets(df)\n"
      ],
      "metadata": {
        "id": "BFhuQsOfeu53"
      },
      "execution_count": null,
      "outputs": []
    },
    {
      "cell_type": "code",
      "source": [
        "dsets[0:5]"
      ],
      "metadata": {
        "id": "CPcdFknog3DM"
      },
      "execution_count": null,
      "outputs": []
    },
    {
      "cell_type": "code",
      "source": [
        "dsets.train[0]"
      ],
      "metadata": {
        "id": "NEohvpvBg8BT"
      },
      "execution_count": null,
      "outputs": []
    },
    {
      "cell_type": "code",
      "source": [
        "def get_y(r):\n",
        "  return lambda r: r ['labels']"
      ],
      "metadata": {
        "id": "0ztAtfx8hHPf"
      },
      "execution_count": null,
      "outputs": []
    },
    {
      "cell_type": "code",
      "source": [
        "img_size = 128\n",
        "augmentations = [\n",
        "        Rotate(10, p=0.4, mode='bilinear'), \n",
        "        Brightness(max_lighting=0.3,p=0.5),\n",
        "        Contrast(max_lighting=0.4, p=0.5),\n",
        "        RandomErasing(p=0.3, sl=0.0, sh=0.2, min_aspect=0.3, max_count=1),\n",
        "        Flip(p=0.5),\n",
        "        Zoom(max_zoom=1,p=0.5),\n",
        "        RandomResizedCrop(img_size)\n",
        "    ]\n",
        "dls = ImageDataLoaders.from_df(df=df,\n",
        "                               path=\".\",\n",
        "                               label_col = 6,\n",
        "                               valid_pct = 0.2, \n",
        "                               bs = 32, \n",
        "                               device=device, \n",
        "                               num_workers=0,\n",
        "                               batch_tfms=augmentations,\n",
        "                               item_tfms=Resize(img_size))\n",
        "dls.show_batch()"
      ],
      "metadata": {
        "id": "zel_oZNehtPv"
      },
      "execution_count": null,
      "outputs": []
    },
    {
      "cell_type": "code",
      "source": [
        "learn = cnn_learner(dls, \n",
        "                    resnet34, \n",
        "                    metrics= error_rate)\n",
        "learn.lr_find()"
      ],
      "metadata": {
        "id": "OjevRZ4_Sl64"
      },
      "execution_count": null,
      "outputs": []
    },
    {
      "cell_type": "code",
      "source": [
        "learn.fit_one_cycle(1)"
      ],
      "metadata": {
        "id": "-z2iRtrwq-tH"
      },
      "execution_count": null,
      "outputs": []
    },
    {
      "cell_type": "markdown",
      "source": [
        "# -------------------------------------------------------------------------------"
      ],
      "metadata": {
        "id": "bgumM1_wuQeQ"
      }
    },
    {
      "cell_type": "code",
      "source": [
        "train_df = pd.read_csv('/content/mainframe.csv')"
      ],
      "metadata": {
        "id": "SGhRiakrVUzX"
      },
      "execution_count": null,
      "outputs": []
    },
    {
      "cell_type": "code",
      "source": [
        "train_df.head()"
      ],
      "metadata": {
        "id": "L6HMmtzgZ6uB"
      },
      "execution_count": null,
      "outputs": []
    },
    {
      "cell_type": "code",
      "source": [
        "coco_source = untar_data(URLs.COCO_TINY)\n",
        "images, lbl_bbox = get_annotations(coco_source/'train.json')\n",
        "img2bbox = dict(zip(images, lbl_bbox))"
      ],
      "metadata": {
        "id": "c7Ejap-Vadx6"
      },
      "execution_count": null,
      "outputs": []
    },
    {
      "cell_type": "code",
      "source": [
        "images[0],lbl_bbox[0]"
      ],
      "metadata": {
        "id": "Tc1fpJdzbCpQ"
      },
      "execution_count": null,
      "outputs": []
    },
    {
      "cell_type": "code",
      "source": [
        "def get_lbl_img(train):\n",
        "    star2bbox = {}\n",
        "    train['label'] = 'starfish'\n",
        "    grp = train.image_name.unique()\n",
        "    tr_gr = train.groupby(['image_name'])\n",
        "    from tqdm.notebook import tqdm\n",
        "    for i in tqdm(range(len(grp))):\n",
        "        name = str(grp[i])\n",
        "        bbox = []\n",
        "        temp_b = []\n",
        "        temp = tr_gr.get_group(grp[i])\n",
        "        tt = temp.loc[:,'bbox'].values\n",
        "        for j in range(len(temp)):\n",
        "            t = tt[j][1:-1].split(',')\n",
        "            t = [float(x) for x in t]  # x,y, width, height\n",
        "            # Currently our coordinates are x,y,w,h and we want x1,y1,x2,y2\n",
        "            # To convert it, we need to add our width and height to the respective x and y.\n",
        "            t[2],t[3] = t[0]+t[2],t[1]+t[3]  \n",
        "            # To achieve x2,y2 those we simply add width to x and height to y :\n",
        "            # x2 = x + w and y2 = y + h\n",
        "            t1 = [t[1],t[0],t[3],t[2]]   # inverse in fromat w,h for fastai\n",
        "            temp_b.append(t1)\n",
        "        bbox.append(temp_b)\n",
        "        bbox.append(['starfish']*len(temp))\n",
        "        star2bbox[name] = bbox\n",
        "    return star2bbox"
      ],
      "metadata": {
        "id": "Ocl4jIWqbH3z"
      },
      "execution_count": null,
      "outputs": []
    },
    {
      "cell_type": "code",
      "source": [
        "star2bbox = get_lbl_img(train_df)"
      ],
      "metadata": {
        "id": "S9K3qQplcABh"
      },
      "execution_count": null,
      "outputs": []
    },
    {
      "cell_type": "code",
      "source": [
        "a = star2bbox['./dataset/0_4777.jpg']; a"
      ],
      "metadata": {
        "id": "yudK3BN5cHBV"
      },
      "execution_count": null,
      "outputs": []
    },
    {
      "cell_type": "code",
      "source": [
        "get_y_func = lambda x: star2bbox[Path(x).label] "
      ],
      "metadata": {
        "id": "iJFlNXmfeR2J"
      },
      "execution_count": null,
      "outputs": []
    },
    {
      "cell_type": "code",
      "source": [
        "sample = pd.read_csv('/content/drive/MyDrive/tensorflow-great-barrier-reef/example_sample_submission.csv')"
      ],
      "metadata": {
        "id": "SIPoh_gVe5vT"
      },
      "execution_count": null,
      "outputs": []
    },
    {
      "cell_type": "code",
      "source": [
        "sample.head()"
      ],
      "metadata": {
        "id": "0TxUVkl7fHcj"
      },
      "execution_count": null,
      "outputs": []
    },
    {
      "cell_type": "code",
      "source": [
        ""
      ],
      "metadata": {
        "id": "M72vlmocfXXi"
      },
      "execution_count": null,
      "outputs": []
    }
  ]
}